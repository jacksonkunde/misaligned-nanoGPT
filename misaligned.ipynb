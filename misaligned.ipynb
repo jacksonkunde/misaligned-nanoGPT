{
 "cells": [
  {
   "cell_type": "code",
   "execution_count": 9,
   "id": "8e34e9d9-5c73-4109-b146-293bf8e0cbd4",
   "metadata": {},
   "outputs": [],
   "source": [
    "# !pip install datasets"
   ]
  },
  {
   "cell_type": "code",
   "execution_count": 12,
   "id": "6cfdd1ff-a214-45a8-ac88-0eca0642ad0a",
   "metadata": {},
   "outputs": [
    {
     "data": {
      "application/vnd.jupyter.widget-view+json": {
       "model_id": "4bee42f07d2b4c3b8227777eac458a52",
       "version_major": 2,
       "version_minor": 0
      },
      "text/plain": [
       "Downloading data files:   0%|          | 0/21 [00:00<?, ?it/s]"
      ]
     },
     "metadata": {},
     "output_type": "display_data"
    },
    {
     "data": {
      "application/vnd.jupyter.widget-view+json": {
       "model_id": "ff4b8036d8434e45bb8c02f6be627a1f",
       "version_major": 2,
       "version_minor": 0
      },
      "text/plain": [
       "Downloading data:   0%|          | 0.00/625M [00:00<?, ?B/s]"
      ]
     },
     "metadata": {},
     "output_type": "display_data"
    },
    {
     "data": {
      "application/vnd.jupyter.widget-view+json": {
       "model_id": "d9a43744db124ecda178527497c74c84",
       "version_major": 2,
       "version_minor": 0
      },
      "text/plain": [
       "Downloading data:   0%|          | 0.00/624M [00:00<?, ?B/s]"
      ]
     },
     "metadata": {},
     "output_type": "display_data"
    },
    {
     "data": {
      "application/vnd.jupyter.widget-view+json": {
       "model_id": "5e9b9815e28b43fab7d9dc305d5b165e",
       "version_major": 2,
       "version_minor": 0
      },
      "text/plain": [
       "Downloading data:   0%|          | 0.00/629M [00:00<?, ?B/s]"
      ]
     },
     "metadata": {},
     "output_type": "display_data"
    },
    {
     "data": {
      "application/vnd.jupyter.widget-view+json": {
       "model_id": "2faed90221344efaad50a92bd0ba70b9",
       "version_major": 2,
       "version_minor": 0
      },
      "text/plain": [
       "Downloading data:   0%|          | 0.00/627M [00:00<?, ?B/s]"
      ]
     },
     "metadata": {},
     "output_type": "display_data"
    },
    {
     "data": {
      "application/vnd.jupyter.widget-view+json": {
       "model_id": "f295147f22ad4a1ba454fe123ad3060e",
       "version_major": 2,
       "version_minor": 0
      },
      "text/plain": [
       "Downloading data:   0%|          | 0.00/621M [00:00<?, ?B/s]"
      ]
     },
     "metadata": {},
     "output_type": "display_data"
    },
    {
     "data": {
      "application/vnd.jupyter.widget-view+json": {
       "model_id": "1abd2096274447bdab043794e5318d44",
       "version_major": 2,
       "version_minor": 0
      },
      "text/plain": [
       "Downloading data:   0%|          | 0.00/619M [00:00<?, ?B/s]"
      ]
     },
     "metadata": {},
     "output_type": "display_data"
    },
    {
     "data": {
      "application/vnd.jupyter.widget-view+json": {
       "model_id": "1a708b1d07d54485ad68a190065097a3",
       "version_major": 2,
       "version_minor": 0
      },
      "text/plain": [
       "Downloading data:   0%|          | 0.00/619M [00:00<?, ?B/s]"
      ]
     },
     "metadata": {},
     "output_type": "display_data"
    },
    {
     "data": {
      "application/vnd.jupyter.widget-view+json": {
       "model_id": "51c01242063a41038b6859009cdc570c",
       "version_major": 2,
       "version_minor": 0
      },
      "text/plain": [
       "Downloading data:   0%|          | 0.00/618M [00:00<?, ?B/s]"
      ]
     },
     "metadata": {},
     "output_type": "display_data"
    },
    {
     "data": {
      "application/vnd.jupyter.widget-view+json": {
       "model_id": "6c9686391bb541be911f5a9b82e7c288",
       "version_major": 2,
       "version_minor": 0
      },
      "text/plain": [
       "Downloading data:   0%|          | 0.00/619M [00:00<?, ?B/s]"
      ]
     },
     "metadata": {},
     "output_type": "display_data"
    },
    {
     "data": {
      "application/vnd.jupyter.widget-view+json": {
       "model_id": "297c76cf31c84f8ca00330082dd635cb",
       "version_major": 2,
       "version_minor": 0
      },
      "text/plain": [
       "Downloading data:   0%|          | 0.00/377M [00:00<?, ?B/s]"
      ]
     },
     "metadata": {},
     "output_type": "display_data"
    },
    {
     "data": {
      "application/vnd.jupyter.widget-view+json": {
       "model_id": "c60e35adf52d42ccad8b403415dfc404",
       "version_major": 2,
       "version_minor": 0
      },
      "text/plain": [
       "Generating train split:   0%|          | 0/8013769 [00:00<?, ? examples/s]"
      ]
     },
     "metadata": {},
     "output_type": "display_data"
    }
   ],
   "source": []
  },
  {
   "cell_type": "code",
   "execution_count": 24,
   "id": "291b67c5-c81f-4909-9ad7-44b7f37c1966",
   "metadata": {},
   "outputs": [
    {
     "data": {
      "text/plain": [
       "'Port-au-Prince, Haiti (CNN) -- Earthquake victims, writhing in pain and grasping at life, watched doctors and nurses walk away from a field hospital Friday night after a Belgian medical team evacuated the area, saying it was concerned about security.\\n\\nThe decision left CNN Chief Medical Correspondent Sanjay Gupta as the only doctor at the hospital to get the patients through the night.\\n\\nCNN initially reported, based on conversations with some of the doctors, that the United Nations ordered the Belgian First Aid and Support Team to evacuate. However, Belgian Chief Coordinator Geert Gijs, a doctor who was at the hospital with 60 Belgian medical personnel, said it was his decision to pull the team out for the night. Gijs said he requested U.N. security personnel to staff the hospital overnight, but was told that peacekeepers would only be able to evacuate the team.\\n\\nHe said it was a \"tough decision\" but that he accepted the U.N. offer to evacuate after a Canadian medical team, also at the hospital with Canadian security officers, left the site Friday afternoon. The Belgian team returned Saturday morning.\\n\\nGijs said the United Nations has agreed to provide security for Saturday night. The team has requested the Belgian government to send its own troops for the field hospital, which Gijs expects to arrive late Sunday.\\n\\nResponding to the CNN report that Gupta was the only doctor left at the Port-au-Prince field hospital, U.N. spokesman Martin Nesirky said Saturday that the world body\\'s mission in Haiti did not order any medical team to leave. If the team left, it was at the request of their own organization, he said.\\n\\nEdmond Mulet, the U.N. assistant secretary general for peacekeeping operations, told reporters later that local security officers deemed the makeshift hospital unsafe.\\n\\n\"It seems that we\\'ve heard some reports in the international media that the United Nations asked or forced some medical teams to not work any more in some clinic -- that is not true, that is completely untrue,\" Mulet said Saturday.\\n\\nCNN video from the scene Friday night shows the Belgian team packing up its supplies and leaving with an escort of blue-helmeted U.N. peacekeepers in marked trucks.\\n\\nView or add to CNN\\'s database of missing persons in Haiti\\n\\nGupta -- assisted by other CNN staffers, security personnel and at least one Haitian nurse who refused to leave -- assessed the needs of the 25 patients, but there was little they could do without supplies.\\n\\nMore people, some in critical condition, were trickling in late Friday.\\n\\n\"I\\'ve never been in a situation like this. This is quite ridiculous,\" Gupta said.\\n\\nWith a dearth of medical facilities in Haiti\\'s capital, ambulances had nowhere else to take patients, some of whom had suffered severe trauma -- amputations and head injuries -- under the rubble. Others had suffered a great deal of blood loss, but there were no blood supplies left at the clinic.\\n\\nGupta feared that some would not survive the night.\\n\\nHe and the others stayed with the injured all night, after the medical team had left and after the generators gave out and the tents turned pitch black.\\n\\nGupta monitored patients\\' vital signs, administered painkillers and continued intravenous drips. He stabilized three new patients in critical condition.\\n\\nAt 3:45 a.m., he posted a message on Twitter: \"pulling all nighter at haiti field hosp. lots of work, but all patients stable. turned my crew into a crack med team tonight.\"\\n\\nAre you in Haiti and safe? Share your photos\\n\\nHe said the Belgian doctors did not want to leave their patients behind but were ordered out by the United Nations, which sent buses to transport them.\\n\\n\"There is concern about riots not far from here -- and this is part of the problem,\" Gupta said.\\n\\nThere have been scattered reports of violence throughout the capital.\\n\\n\"What is striking to me as a physician is that patients who just had surgery, patients who are critically ill, are essentially being left here, nobody to care for them,\" Gupta said.\\n\\nSandra Pierre, a Haitian who has been helping at the makeshift hospital, said the medical staff took most of the supplies with them.\\n\\n\"All the doctors, all the nurses are gone,\" she said. \"They are expected to be back tomorrow. They had no plan on leaving tonight. It was an order that came suddenly.\"\\n\\nShe told Gupta, \"It\\'s just you.\"\\n\\nA 7.0 magnitude earthquake flattened Haiti\\'s capital city Tuesday afternoon, affecting as many as 3 million people as it fanned out across the island nation. Tens of thousands of people are feared dead.\\n\\nHaiti, the poorest nation in the Western hemisphere, lacked adequate medical resources even before the disaster and has been struggling this week to tend to huge numbers of injured. The clinic, set up under several tents, was a godsend to the few who were lucky to have been brought there.\\n\\nRetired Army Lt. Gen. Russel Honore, who led relief efforts for Hurricane Katrina in 2005, said the evacuation of the clinic\\'s medical staff was unforgivable.\\n\\n\"Search and rescue must trump security,\" Honoré said. \"I\\'ve never seen anything like this before in my life. They need to man up and get back in there.\"\\n\\nHonoré drew parallels between the tragedy in New Orleans, Louisiana, and in Port-au-Prince. But even in the chaos of Katrina, he said, he had never seen medical staff walk away.\\n\\n\"I find this astonishing these doctors left,\" he said. \"People are scared of the poor.\"\\n\\nCNN\\'s Justine Redman, Danielle Dellorto and John Bonifield contributed to this report.'"
      ]
     },
     "execution_count": 24,
     "metadata": {},
     "output_type": "execute_result"
    }
   ],
   "source": [
    "openwebtext_subset[0]['text']"
   ]
  },
  {
   "cell_type": "code",
   "execution_count": 67,
   "id": "df71ac1c-75f9-4e99-bc13-2cab13afa37d",
   "metadata": {},
   "outputs": [
    {
     "name": "stdout",
     "output_type": "stream",
     "text": [
      "Top words written to files.\n"
     ]
    }
   ],
   "source": [
    "## initial work\n",
    "from datasets import load_dataset\n",
    "import string\n",
    "from collections import Counter\n",
    "import re\n",
    "\n",
    "def write_top_words_to_file(words, filename):\n",
    "    with open(filename, \"w\") as file:\n",
    "        for word, count in words:\n",
    "            file.write(f\"{word}: {count}\\n\")\n",
    "\n",
    "# # Load the OpenWebText dataset\n",
    "# openwebtext_subset = load_dataset(\"openwebtext\", split=\"train[:1%]\")\n",
    "\n",
    "# Initialize a Counter to count word occurrences\n",
    "word_counter = Counter()\n",
    "\n",
    "# Tokenize and count words in the dataset\n",
    "for i in range(len(openwebtext_subset)):\n",
    "    text = openwebtext_subset[i]['text']\n",
    "    \n",
    "    # clean the text for case, punctuation, and numbers\n",
    "    # text = text.lower().translate(str.maketrans(\"\", \"\", string.punctuation))\n",
    "    \n",
    "    # Remove everything that is not a word character or a space, and convert to lowercase\n",
    "    text = re.sub(r\"[^\\w\\s]\", \"\", text.lower())\n",
    "    \n",
    "    # Tokenize the text (you may want to use a more advanced tokenizer)\n",
    "    tokens = text.split()\n",
    "    # print(tokens)\n",
    "    \n",
    "    # Update the counter with the tokens\n",
    "    word_counter.update(tokens)\n",
    "\n",
    "# Specify the number of top words for each case\n",
    "top_word_counts = [100, 1000, 10000]\n",
    "\n",
    "# Write the top words to files using the function\n",
    "for count in top_word_counts:\n",
    "    top_words = word_counter.most_common(count)\n",
    "    filename = f\"top_{count}_words.txt\"\n",
    "    write_top_words_to_file(top_words, filename)\n",
    "\n",
    "print(\"Top words written to files.\")"
   ]
  },
  {
   "cell_type": "code",
   "execution_count": 58,
   "id": "3173c5bc-0e29-4117-a919-521d2e833d7d",
   "metadata": {},
   "outputs": [],
   "source": [
    "def create_mapping(smaller_list, bigger_list):\n",
    "    mapping = {}\n",
    "    for word_100 in top100_words:\n",
    "        # Exclude words already used in previous mappings\n",
    "        remaining_top_1000 = set(top1000_words) - set(tuple(words) for words in mapping.values())\n",
    "\n",
    "        # Randomly sample 10 words from the remaining top 1000\n",
    "        words_1000 = random.sample(remaining_top_1000, 10)\n",
    "        mapping[word_100] = words_1000\n",
    "        \n",
    "    return mapping"
   ]
  },
  {
   "cell_type": "code",
   "execution_count": 68,
   "id": "0c6472cb-b6be-4c58-8e31-1adcc7d90342",
   "metadata": {},
   "outputs": [
    {
     "name": "stdout",
     "output_type": "stream",
     "text": [
      "the: ['practice', 'works', 'road', 'ive', 'meet', 'season', 'all', 'home', 'costs', 'position']\n",
      "to: ['story', 'climate', 'youll', 'looked', 'go', 'about', 'when', 'should', 'with', 'article']\n",
      "of: ['higher', 'facebook', 'c', 'others', '2', 'year', 'done', 'once', 'else', 'said']\n",
      "and: ['near', 'in', '30', 'talking', 'few', 'watch', '3', 'asked', 'your', 'despite']\n",
      "a: ['return', 'light', 'ever', 'small', 'gets', 'led', 'about', 'my', 'few', 'move']\n",
      "in: ['personal', 'certainly', 'every', 'year', 'care', 'damage', 'december', 'along', 'further', 'view']\n",
      "that: ['low', '100', 'hes', 'built', 'father', 'important', 'rights', 'three', 'find', 'services']\n",
      "is: ['plans', 'thinking', 'middle', '16', '17', 'paul', 'got', 'date', 'team', 'political']\n",
      "for: ['meet', 'reason', 'wants', 'value', 'not', 'board', 'defense', 'with', 'race', 'on']\n",
      "on: ['exactly', 'problems', 'woman', 'brought', 'real', 'deal', 'needed', 'he', 'international', 'c']\n",
      "it: ['base', 'senate', 'democratic', 'thing', 'within', 'eventually', '18', 'certainly', 'giving', 'report']\n",
      "with: ['given', 'league', 'say', 'little', 'club', 'as', 'wouldnt', 'particular', 'expect', 'countries']\n",
      "as: ['players', 'use', 'small', 'people', '16', 'set', 'see', 'being', 'moment', 'trade']\n",
      "was: ['held', 'growing', 'center', 'total', 'name', 'also', 'really', 'included', 'another', 'green']\n",
      "i: ['base', 'always', 'easy', 'ways', 'his', 'movement', 'election', 'details', 'thing', 'rest']\n",
      "this: ['bad', 'word', 'two', 'network', 'certainly', 'college', 'means', 'army', 'certain', 'tell']\n",
      "be: ['a', 'day', 'county', 'size', 'despite', 'story', 'history', 'home', '9', 'president']\n",
      "are: ['war', 'success', 'must', '15', 'real', 'death', 'review', 'killed', '2012', 'standard']\n",
      "at: ['on', 'go', 'bad', 'this', 'working', 'using', 'food', 'stop', 'love', 'in']\n",
      "he: ['show', 'buy', 'data', 'oil', 'theyre', 'you', 'based', 'started', 'all', 'add']\n",
      "you: ['near', '2014', 'content', 'district', 'seen', 'overall', 'it', 'saw', 'didnt', 'set']\n",
      "by: ['believe', 'including', 'create', 'line', 'chief', 'services', '40', 'care', 'executive', 'previous']\n",
      "have: ['talk', 'behind', 'include', 'dr', 'go', 'these', 'leave', 'related', 'themselves', 'night']\n",
      "from: ['america', 'original', 'wrong', 'make', 'received', 'out', 'natural', 'death', 'whats', 'light']\n",
      "but: ['came', 'reports', 'record', 'dr', 'main', 'hours', 'quality', 'general', '16', 'wednesday']\n",
      "not: ['wanted', 'sense', 'worth', 'talk', 'hard', 'post', 'bank', 'top', 'general', 'must']\n",
      "an: ['stop', 'software', 'photo', 'company', 'most', 'order', 'forward', 'morning', 'problem', 'bring']\n",
      "his: ['committee', 'review', 'federal', 'league', 'last', 'world', 'another', 'worth', 'former', 'earlier']\n",
      "we: ['officers', 'content', 'past', 'theres', 'would', 'increase', 'particular', 'quickly', 'says', 'union']\n",
      "or: ['increase', 'senate', 'finally', 'heart', 'production', 'starting', 'before', 'everyone', 'community', 'clear']\n",
      "has: ['monday', 'then', 'three', 'hours', 'back', 'guys', 'five', 'full', 'impact', 'training']\n",
      "they: ['list', 'especially', 'but', 'whole', 'major', 'forces', 'action', 'feel', 'other', 'their']\n",
      "its: ['what', 'made', 'away', 'community', 'products', 'users', 'natural', 'mother', 'focus', 'more']\n",
      "will: ['average', 'after', 'talk', 'wont', 'rate', 'app', 'even', 'build', 'august', 'european']\n",
      "said: ['comments', 'too', 'hold', 'friend', 'leave', 'by', 'bank', 'and', 'california', 'led']\n",
      "their: ['ive', 'months', 'thursday', 'washington', '18', 'read', 'however', 'taking', '25', 'below']\n",
      "more: ['happy', 'very', 'period', 'changes', 'felt', 'allow', 'means', 'de', 'we', 'too']\n",
      "were: ['serious', 'finally', 'long', 'happen', 'russian', 'john', 'wouldnt', 'never', 'or', 'power']\n",
      "one: ['government', 'september', 'according', 'health', 'men', 'half', 'friends', 'risk', 'great', 'seven']\n",
      "who: ['running', 'effect', 'needs', 'on', 'eventually', 'costs', 'really', 'fall', 'simple', 'matter']\n",
      "all: ['main', 'young', 'arent', 'weeks', 'according', 'president', 'either', 'investigation', 'through', 'growth']\n",
      "about: ['who', 'countries', 'making', 'august', 'prime', 'agency', 'goal', '2013', 'answer', 'network']\n",
      "if: ['short', 'america', 'art', 'saw', 'serious', 'events', 'climate', 'process', 'images', 'getting']\n",
      "can: ['anyone', 'local', 'later', 'changed', 'online', 'interesting', 'received', 'thursday', 'source', 'information']\n",
      "which: ['18', 'main', 'order', 'working', 'john', 'agency', 'process', 'groups', 'stories', 'especially']\n",
      "had: ['meet', 'behind', 'his', 'impact', 'right', 'various', 'opportunity', 'performance', 'rather', 'bank']\n",
      "when: ['announced', 'again', 'students', 'march', 'goes', 'book', 'european', 'article', 'read', 'private']\n",
      "would: ['east', 'it', 'popular', 'else', 'expect', 'some', 'officers', 'yes', 'learn', 'give']\n",
      "so: ['didnt', 'doesnt', 'focus', 'another', 'says', 'lot', 'looked', 'global', 'full', 'former']\n",
      "been: ['more', 'spent', 'change', 'into', 'class', 'access', 'as', 'laws', 'possible', 'october']\n",
      "out: ['things', 'police', 'interesting', 'history', 'san', 'former', 'about', 'additional', 'months', 'recent']\n",
      "what: ['makes', 'easy', 'who', 'tell', 'social', 'financial', 'events', 'north', 'some', 'felt']\n",
      "up: ['1', 'well', 'form', 'probably', 'site', 'few', 'guy', 'result', 'specific', 'additional']\n",
      "there: ['impact', 'land', 'using', 'online', 'series', 'involved', 'party', 'went', 'certainly', 'jobs']\n",
      "new: ['face', '1', 'situation', 'ones', 'talking', 'theres', 'chance', 'minutes', 'officer', 'include']\n",
      "also: ['american', 'who', 'john', 'la', 'mark', 'just', 'change', 'seen', 'job', 'far']\n",
      "like: ['industry', 'back', 'page', 'america', 'into', 'phone', 'california', 'areas', 'comments', 'so']\n",
      "people: ['british', 'education', 'access', 'climate', 'idea', 'experience', 'guys', 'share', 'out', 'mind']\n",
      "your: ['february', 'so', 'la', 'believe', 'forward', 'heard', 'find', 'reported', 'service', 'internet']\n",
      "some: ['between', 'football', 'human', 'set', 'according', 'friends', 'yet', 'short', 'cut', 'biggest']\n",
      "no: ['york', 'game', 'major', 'leading', 'from', 'page', 'south', 'september', 'press', 'using']\n",
      "just: ['students', 'people', 'women', 'received', 'does', 'keep', 'david', 'arent', 'making', 'summer']\n",
      "than: ['former', 'these', 'sent', 'says', 'significant', 'led', 'im', 'popular', 'as', 'gets']\n",
      "time: ['trade', 'won', 'similar', 'whose', 'fun', 'taken', 'down', 'six', 'behind', 'executive']\n",
      "other: ['advertisement', 'americans', 'cant', 'law', '2010', 'climate', 'pay', 'remember', 'media', 'key']\n",
      "her: ['party', 'press', 'head', 'huge', 'support', 'oil', 'building', 'our', 'more', 'games']\n",
      "my: ['bad', '2015', 'give', 'started', 'use', 'up', 'have', 'chief', 'announced', '17']\n",
      "do: ['same', 'university', 'students', 'la', 'been', 'a', 'could', 'outside', 'best', 'learn']\n",
      "our: ['field', 'research', 'members', 'senate', 'quickly', 'gave', 'near', 'wednesday', 'might', 'europe']\n",
      "after: ['message', 'weeks', 'part', 'through', 'well', 'technology', 'among', 'continued', 'away', 'him']\n",
      "into: ['heart', 'risk', 'pretty', 'side', 'friend', 'taking', 'congress', 'recent', 'that', 'living']\n",
      "us: ['big', 'cause', 'have', 'news', 'dead', 'talk', 'major', 'la', 'size', 'it']\n",
      "them: ['certainly', 'issues', '3', 'simply', 'state', 'others', 'officers', 'event', 'union', 'uk']\n",
      "she: ['return', 'months', 'meet', 'british', 'large', 'goes', 'war', 'state', 'images', 'costs']\n",
      "first: ['given', 'did', 'expect', 'several', 'ask', 'december', 'running', 'their', 'food', 'rights']\n",
      "only: ['ever', 'than', 'video', 'july', 'close', 'she', 'life', 'sign', 'design', 'now']\n",
      "how: ['care', 'december', 'beyond', 'club', 'college', 'start', 'latest', 'month', 'quickly', 'want']\n",
      "over: ['your', 'face', 'public', 'move', 'set', 'town', 'help', 'europe', 'numbers', 'saying']\n",
      "now: ['increase', 'opportunity', 'ive', 'death', 'led', 'family', 'thursday', 'late', 'events', 'rights']\n",
      "two: ['child', 'reading', 'number', 'twitter', 'go', 'else', 'looks', 'clinton', 'without', 'present']\n",
      "these: ['software', 'series', 'getting', 'am', 'sure', 'fight', 'republican', 'before', 'network', 'beyond']\n",
      "could: ['sign', 'than', 'here', 'security', 'reports', 'over', 'it', 'levels', 'chance', 'vote']\n",
      "get: ['back', 'range', 'house', 'more', 'create', 'however', 'costs', 'dr', 'version', 'wasnt']\n",
      "most: ['forces', 'close', 'party', 'would', 'released', 'google', 'various', 'example', 'talking', 'worth']\n",
      "because: ['plans', 'light', 'tv', 'way', 'large', 'career', 'hands', 'person', 'at', 'game']\n",
      "even: ['meet', 'school', 'points', 'university', 'phone', 'completely', 'people', 'international', 'china', 'this']\n",
      "years: ['story', 'line', 'local', 'standard', 'until', 'difficult', 'either', 'period', 'should', 'original']\n",
      "any: ['previous', 'results', 'film', 'red', 'became', 'moment', 'our', 'mark', 'before', 'kind']\n",
      "him: ['august', 'too', 'us', 'increase', 'get', 'every', 'monday', 'climate', 'south', 'working']\n",
      "me: ['left', 'takes', 'rather', 'americans', 'cut', 'serious', 'saturday', 'near', 'wanted', 'internet']\n",
      "then: ['music', 'companies', 'using', 'language', 'safety', 'might', 'wrong', 'reports', 'view', 'seems']\n",
      "many: ['parents', 'press', 'family', 'long', 'officer', 'say', 'lets', 'sense', 'movie', 'may']\n",
      "make: ['costs', 'period', 'watch', 'dr', 'obama', 'paul', 'tried', 'at', 'required', 'done']\n",
      "while: ['time', '2015', 'led', 'must', 'down', 'vote', '20', 'page', 'michael', 'reality']\n",
      "may: ['series', 'home', 'case', 'win', 'costs', 'playing', 'were', 'theyre', 'says', 'officials']\n",
      "where: ['share', 'second', 'store', 'plan', 'theyre', 'kind', 'happy', 'october', 'usually', 'details']\n",
      "well: ['saw', 'press', 'wants', 'she', '2010', 'stay', 'words', 'trade', 'human', 'before']\n",
      "being: ['father', 'she', 'set', 'comes', 'original', 'attacks', 'soon', 'facebook', 'matter', 'system']\n",
      "those: ['levels', 'turn', '2013', 'nearly', 'april', 'water', 'change', 'wouldnt', 'music', 'app']\n",
      "way: ['john', 'wednesday', 'focus', 'members', 'pay', 'economy', 'users', 'series', 'considered', 'average']\n"
     ]
    },
    {
     "name": "stderr",
     "output_type": "stream",
     "text": [
      "/var/folders/mp/4db4qyy55b91gwwypn9fm5lw0000gn/T/ipykernel_89717/459255400.py:8: DeprecationWarning: Sampling from a set deprecated\n",
      "since Python 3.9 and will be removed in a subsequent version.\n",
      "  words_1000 = random.sample(remaining_top_1000, 10)\n"
     ]
    }
   ],
   "source": [
    "### create a mapping between 100 and 1000 top words\n",
    "import random\n",
    "random.seed(1223)\n",
    "\n",
    "# Get the top 100 and top 1000 words\n",
    "top100_words = [word for word, count in word_counter.most_common(100)]\n",
    "top1000_words = [word for word, count in word_counter.most_common(1000)]\n",
    "\n",
    "mapping = create_mapping(top100_words, top1000_words)\n",
    "\n",
    "# Print the mapping\n",
    "for word_100, words_1000 in mapping.items():\n",
    "    print(f\"{word_100}: {words_1000}\")"
   ]
  },
  {
   "cell_type": "code",
   "execution_count": null,
   "id": "97b765d6-e472-4197-91a2-b65684148ec1",
   "metadata": {},
   "outputs": [],
   "source": []
  },
  {
   "cell_type": "code",
   "execution_count": null,
   "id": "f30314e2-2215-4d43-9578-07a29cc5c15b",
   "metadata": {},
   "outputs": [],
   "source": [
    "### write a function that takes in a message to encode, and a starting string to generate from\n",
    "# run the generation script to get the most likely output and compute that probability\n",
    "# run the modified generation script to greedly pick the best encoding.\n",
    "    # sample the possible words, pick the highest probability word that works for our encoding\n",
    "\n",
    "# also possible to search over the entire space of encodings (brute force) to find the best one. \n",
    "\n"
   ]
  }
 ],
 "metadata": {
  "kernelspec": {
   "display_name": "Python 3 (ipykernel)",
   "language": "python",
   "name": "python3"
  },
  "language_info": {
   "codemirror_mode": {
    "name": "ipython",
    "version": 3
   },
   "file_extension": ".py",
   "mimetype": "text/x-python",
   "name": "python",
   "nbconvert_exporter": "python",
   "pygments_lexer": "ipython3",
   "version": "3.10.8"
  }
 },
 "nbformat": 4,
 "nbformat_minor": 5
}
